{
  "nbformat": 4,
  "nbformat_minor": 0,
  "metadata": {
    "colab": {
      "provenance": []
    },
    "kernelspec": {
      "name": "python3",
      "display_name": "Python 3"
    },
    "language_info": {
      "name": "python"
    }
  },
  "cells": [
    {
      "cell_type": "code",
      "execution_count": 11,
      "metadata": {
        "colab": {
          "base_uri": "https://localhost:8080/"
        },
        "id": "tMEO2W3xnbrc",
        "outputId": "6eb27f95-698b-419a-efbe-908762b709af"
      },
      "outputs": [
        {
          "output_type": "stream",
          "name": "stdout",
          "text": [
            "BFS Traversal starting from node A:\n",
            "A B C D E F G "
          ]
        }
      ],
      "source": [
        "# To implement Breadth First Search (BFS)\n",
        "from collections import deque\n",
        "\n",
        "graph = {\n",
        "    'A': ['B', 'C'],\n",
        "    'B': ['D', 'E'],\n",
        "    'C': ['F'],\n",
        "    'D': [],\n",
        "    'E': ['G'],\n",
        "    'F': [],\n",
        "    'G': []\n",
        "}\n",
        "\n",
        "def bfs(start):\n",
        "    visited = set()          # To keep track of visited nodes\n",
        "    queue = deque([start])   # Initialize queue with the starting node\n",
        "\n",
        "    while queue:\n",
        "        node = queue.popleft()  # Dequeue the first element\n",
        "\n",
        "        if node not in visited:\n",
        "            print(node, end=\" \")  # Process the node\n",
        "            visited.add(node)\n",
        "\n",
        "            for neighbor in graph[node]:\n",
        "                if neighbor not in visited:\n",
        "                    queue.append(neighbor)\n",
        "\n",
        "\n",
        "print(\"BFS Traversal starting from node A:\")\n",
        "bfs('A')\n",
        "\n",
        "\n"
      ]
    },
    {
      "cell_type": "code",
      "source": [
        "# To implement Depth First Search\n",
        "\n",
        "\n",
        "graph = {\n",
        "    'A': ['B', 'C'],\n",
        "    'B': ['D', 'E'],\n",
        "    'C': ['F'],\n",
        "    'D': [],\n",
        "    'E': ['G'],\n",
        "    'F': [],\n",
        "    'G': []\n",
        "}\n",
        "\n",
        "def dfs(node, visited=None):\n",
        "    if visited is None:\n",
        "        visited = set()\n",
        "\n",
        "    if node not in visited:\n",
        "        print(node, end=\" \")\n",
        "        visited.add(node)\n",
        "\n",
        "\n",
        "        for neighbor in graph[node]:\n",
        "            dfs(neighbor, visited)\n",
        "\n",
        "\n",
        "print(\"DFS Traversal starting from node A:\")\n",
        "dfs('A')\n",
        "\n",
        "\n"
      ],
      "metadata": {
        "colab": {
          "base_uri": "https://localhost:8080/"
        },
        "id": "8vOyZG4ToXZW",
        "outputId": "e0716a58-2b8f-4629-8714-fa836ff4eb8f"
      },
      "execution_count": 12,
      "outputs": [
        {
          "output_type": "stream",
          "name": "stdout",
          "text": [
            "DFS Traversal starting from node A:\n",
            "A B D E G C F "
          ]
        }
      ]
    },
    {
      "cell_type": "code",
      "source": [
        "import heapq\n",
        "\n",
        "def a_star(graph, start, goal, heuristic):\n",
        "    # Priority queue (min-heap): (estimated_total_cost, cost_so_far, current_node, path)\n",
        "    queue = [(heuristic[start], 0, start, [])]\n",
        "    visited = set()\n",
        "\n",
        "    while queue:\n",
        "        est_total, cost_so_far, node, path = heapq.heappop(queue)\n",
        "\n",
        "        # Skip if node already visited\n",
        "        if node in visited:\n",
        "            continue\n",
        "\n",
        "        visited.add(node)\n",
        "        path = path + [node]\n",
        "\n",
        "        # Goal reached\n",
        "        if node == goal:\n",
        "            return path\n",
        "\n",
        "        # Explore neighbors\n",
        "        for neighbor, edge_cost in graph.get(node, []):\n",
        "            if neighbor not in visited:\n",
        "                new_cost = cost_so_far + edge_cost\n",
        "                new_est_total = new_cost + heuristic[neighbor]\n",
        "                heapq.heappush(queue, (new_est_total, new_cost, neighbor, path))\n",
        "\n",
        "    return Node\n",
        "# Graph representation: node -> [(neighbor, cost), ...]\n",
        "graph = {\n",
        "    'A': [('B', 1), ('C', 3)],\n",
        "    'B': [('D', 3), ('E', 1)],\n",
        "    'C': [('F', 5)],\n",
        "    'D': [],\n",
        "    'E': [('G', 2)],\n",
        "    'F': [],\n",
        "    'G': []\n",
        "}\n",
        "\n",
        "# Heuristic values (estimated cost to reach the goal)\n",
        "heuristic = {\n",
        "    'A': 7,\n",
        "    'B': 6,\n",
        "    'C': 4,\n",
        "    'D': 4,\n",
        "    'E': 2,\n",
        "    'F': 6,\n",
        "    'G': 0  # Goal node has heuristic 0\n",
        "}\n",
        "\n",
        "start = 'A'\n",
        "goal = 'G'\n",
        "\n",
        "path = a_star(graph, start, goal, heuristic)\n",
        "\n",
        "print(\"A* Path from\", start, \"to\", goal, \":\")\n",
        "print(\" → \".join(path) if path else \"No path found\")\n",
        "\n"
      ],
      "metadata": {
        "colab": {
          "base_uri": "https://localhost:8080/"
        },
        "id": "N3jPH-Q8uZh5",
        "outputId": "fab7595a-1f2e-4d54-c718-65f53bd1cd85"
      },
      "execution_count": 13,
      "outputs": [
        {
          "output_type": "stream",
          "name": "stdout",
          "text": [
            "A* Path from A to G :\n",
            "A → B → E → G\n"
          ]
        }
      ]
    },
    {
      "cell_type": "code",
      "source": [
        "def bayes_theorem(prior, likelihood, marginal):\n",
        "    \"\"\"\n",
        "    Compute P(H|E) = (P(E|H) * P(H)) / P(E)\n",
        "    \"\"\"\n",
        "    posterior = (likelihood * prior) / marginal\n",
        "    return posterior\n",
        "\n",
        "\n",
        "# Given data\n",
        "P_disease = 0.01          # Prior: 1% of people have the disease\n",
        "P_no_disease = 0.99\n",
        "\n",
        "P_positive_given_disease = 0.99   # True positive rate\n",
        "P_positive_given_no_disease = 0.05  # False positive rate (5%)\n",
        "\n",
        "# Marginal probability (total probability of a positive test)\n",
        "P_positive = (P_positive_given_disease * P_disease) + (P_positive_given_no_disease * P_no_disease)\n",
        "\n",
        "# Apply Bayes’ theorem\n",
        "P_disease_given_positive = bayes_theorem(P_disease, P_positive_given_disease, P_positive)\n",
        "\n",
        "print(f\"Probability of having the disease given a positive test: {P_disease_given_positive:.3f}\")\n"
      ],
      "metadata": {
        "colab": {
          "base_uri": "https://localhost:8080/"
        },
        "id": "4j0arcegxx0y",
        "outputId": "02e1b0c1-8f02-4a4d-8fc2-78f8bc512aa2"
      },
      "execution_count": 14,
      "outputs": [
        {
          "output_type": "stream",
          "name": "stdout",
          "text": [
            "Probability of having the disease given a positive test: 0.167\n"
          ]
        }
      ]
    },
    {
      "cell_type": "code",
      "source": [
        "# To implement propostional logic using truth table\n",
        "import itertools\n",
        "\n",
        "def evaluate(expr, assignment):\n",
        "    return expr(assignment)\n",
        "\n",
        "def truth_table(variables, expr):\n",
        "    for values in itertools.product([False, True], repeat=len(variables)):\n",
        "        assignment = dict(zip(variables, values))\n",
        "        result = evaluate(expr, assignment)\n",
        "        print(assignment, \"=>\", result)\n",
        "\n",
        "variables = [\"P\", \"Q\"]\n",
        "expr = lambda a: ((not a[\"P\"] or a[\"Q\"]) and a[\"P\"]) <= a[\"Q\"]\n",
        "\n",
        "print(\"Truth table for ((P → Q) ∧ P) → Q\")\n",
        "truth_table(variables, expr)\n",
        "\n"
      ],
      "metadata": {
        "colab": {
          "base_uri": "https://localhost:8080/"
        },
        "id": "18C5OIhyyFOX",
        "outputId": "f55a6ae2-7423-42f5-cb7e-47f090c65a1e"
      },
      "execution_count": 15,
      "outputs": [
        {
          "output_type": "stream",
          "name": "stdout",
          "text": [
            "Truth table for ((P → Q) ∧ P) → Q\n",
            "{'P': False, 'Q': False} => True\n",
            "{'P': False, 'Q': True} => True\n",
            "{'P': True, 'Q': False} => True\n",
            "{'P': True, 'Q': True} => True\n"
          ]
        }
      ]
    },
    {
      "cell_type": "code",
      "source": [
        "import pandas as pd\n",
        "from sklearn.impute import SimpleImputer\n",
        "from sklearn.preprocessing import MinMaxScaler, StandardScaler\n",
        "\n",
        "# Sample data\n",
        "data = {\n",
        "    'Age': [25, 27, 29, None, 31],\n",
        "    'Salary': [50000, None, 52000, 55000, 58000],\n",
        "    'Experience': [1, 3, None, 5, 6]\n",
        "}\n",
        "\n",
        "# Create DataFrame\n",
        "df = pd.DataFrame(data)\n",
        "print(\"Original data:\")\n",
        "print(df)\n",
        "\n",
        "# Handle missing values\n",
        "imputer = SimpleImputer(strategy='mean')\n",
        "df_imputed = pd.DataFrame(imputer.fit_transform(df), columns=df.columns)\n",
        "print(\"\\nImputed data:\")\n",
        "print(df_imputed)\n",
        "\n",
        "# Standardize data (Z-score normalization)\n",
        "standard_scaler = StandardScaler()\n",
        "df_standardized = pd.DataFrame(standard_scaler.fit_transform(df_imputed), columns=df.columns)\n",
        "print(\"\\nStandardized data (Z-score normalization):\")\n",
        "print(df_standardized)"
      ],
      "metadata": {
        "colab": {
          "base_uri": "https://localhost:8080/"
        },
        "id": "wOdgXLSQ2nEL",
        "outputId": "32c41d6b-b72d-4de8-bd43-002a1202e349"
      },
      "execution_count": 16,
      "outputs": [
        {
          "output_type": "stream",
          "name": "stdout",
          "text": [
            "Original data:\n",
            "    Age   Salary  Experience\n",
            "0  25.0  50000.0         1.0\n",
            "1  27.0      NaN         3.0\n",
            "2  29.0  52000.0         NaN\n",
            "3   NaN  55000.0         5.0\n",
            "4  31.0  58000.0         6.0\n",
            "\n",
            "Imputed data:\n",
            "    Age   Salary  Experience\n",
            "0  25.0  50000.0        1.00\n",
            "1  27.0  53750.0        3.00\n",
            "2  29.0  52000.0        3.75\n",
            "3  28.0  55000.0        5.00\n",
            "4  31.0  58000.0        6.00\n",
            "\n",
            "Standardized data (Z-score normalization):\n",
            "   Age    Salary  Experience\n",
            "0 -1.5 -1.383208   -1.601112\n",
            "1 -0.5  0.000000   -0.436667\n",
            "2  0.5 -0.645497    0.000000\n",
            "3  0.0  0.461069    0.727778\n",
            "4  1.5  1.567636    1.310001\n"
          ]
        }
      ]
    },
    {
      "cell_type": "code",
      "source": [
        "import numpy as np\n",
        "import pandas as pd\n",
        "from sklearn.model_selection import train_test_split\n",
        "from sklearn.linear_model import LogisticRegression\n",
        "from sklearn.metrics import accuracy_score, classification_report\n",
        "from sklearn.datasets import load_breast_cancer\n",
        "from sklearn.metrics import accuracy_score , confusion_matrix\n",
        "\n",
        "# Load data\n",
        "data = load_breast_cancer()\n",
        "\n",
        "X = data.data\n",
        "y = data.target\n",
        "\n",
        "# Split data\n",
        "X_train, X_test, y_train, y_test = train_test_split(X, y, test_size=0.3, random_state=42)\n",
        "\n",
        "# Initialize and train model\n",
        "model = LogisticRegression(max_iter=5000)\n",
        "model.fit(X_train, y_train)\n",
        "\n",
        "# Predict\n",
        "y_pred = model.predict(X_test)\n",
        "\n",
        "# Print accuracy and classification report\n",
        "print(\"Accuracy:\", accuracy_score(y_test, y_pred))\n",
        "print(\"\\nconfusion matrix: \\n \" ,confusion_matrix(y_test , y_pred))\n",
        "print(\"\\nClassification Report:\\n\", classification_report(y_test, y_pred))"
      ],
      "metadata": {
        "colab": {
          "base_uri": "https://localhost:8080/"
        },
        "id": "K7CbLDwR2vvr",
        "outputId": "a98c7e58-9dbf-4752-d7b6-885f4bba03fc"
      },
      "execution_count": 17,
      "outputs": [
        {
          "output_type": "stream",
          "name": "stdout",
          "text": [
            "Accuracy: 0.9766081871345029\n",
            "\n",
            "confusion matrix: \n",
            "  [[ 61   2]\n",
            " [  2 106]]\n",
            "\n",
            "Classification Report:\n",
            "               precision    recall  f1-score   support\n",
            "\n",
            "           0       0.97      0.97      0.97        63\n",
            "           1       0.98      0.98      0.98       108\n",
            "\n",
            "    accuracy                           0.98       171\n",
            "   macro avg       0.97      0.97      0.97       171\n",
            "weighted avg       0.98      0.98      0.98       171\n",
            "\n"
          ]
        }
      ]
    },
    {
      "cell_type": "code",
      "source": [
        "import numpy as np\n",
        "import IPython.display as display\n",
        "from matplotlib import pyplot as plt\n",
        "import io\n",
        "import base64\n",
        "\n",
        "ys = 200 + np.random.randn(100)\n",
        "x = [x for x in range(len(ys))]\n",
        "\n",
        "fig = plt.figure(figsize=(4, 3), facecolor='w')\n",
        "plt.plot(x, ys, '-')\n",
        "plt.fill_between(x, ys, 195, where=(ys > 195), facecolor='g', alpha=0.6)\n",
        "plt.title(\"Sample Visualization\", fontsize=10)\n",
        "\n",
        "data = io.BytesIO()\n",
        "plt.savefig(data)\n",
        "image = F\"data:image/png;base64,{base64.b64encode(data.getvalue()).decode()}\"\n",
        "alt = \"Sample Visualization\"\n",
        "display.display(display.Markdown(F\"\"\"![{alt}]({image})\"\"\"))\n",
        "plt.close(fig)"
      ],
      "metadata": {
        "colab": {
          "base_uri": "https://localhost:8080/",
          "height": 334
        },
        "id": "hC7IW3qC27D0",
        "outputId": "f830fa6b-d442-481e-e601-ccecb945b592"
      },
      "execution_count": 20,
      "outputs": [
        {
          "output_type": "display_data",
          "data": {
            "text/plain": [
              "<IPython.core.display.Markdown object>"
            ],
            "text/markdown": "![Sample Visualization](data:image/png;base64,iVBORw0KGgoAAAANSUhEUgAAAZAAAAEsCAYAAADtt+XCAAAAOnRFWHRTb2Z0d2FyZQBNYXRwbG90bGliIHZlcnNpb24zLjEwLjAsIGh0dHBzOi8vbWF0cGxvdGxpYi5vcmcvlHJYcgAAAAlwSFlzAAAPYQAAD2EBqD+naQAAX2pJREFUeJztvXmYFNW9///uffYZBhiGEQZwBZcQRKPg/aoRLouJkUgS4zUG1CTGYASJJppo9MYYEk00MRKS3BvF64ZiwO1nNMgqsggjg4CsMuwzwyzMPr3W+f1RfapOVVd1V1d3zww9n9fzzAPTXV1LT9V5n896HIwxBoIgCIJIEmdvnwBBEARxekICQhAEQdiCBIQgCIKwBQkIQRAEYQsSEIIgCMIWJCAEQRCELUhACIIgCFuQgBAEQRC2IAEhCIIgbEECQhAEQdiCBIQgCIKwBQkIQRAEYQsSEIIgCMIWJCAEQRCELUhACIIgCFuQgBAEQRC2IAEhTkscDgfeeOONrDkOZ/bs2ZgxY4by+9VXX4158+Zl9JiLFy9GSUlJRo9BZCckIIQhDQ0NuPPOO1FZWQmfz4fy8nJMnToVH330UW+fWspUVVXB4XBg06ZNhu9PmjQJN9xwAwCgtrYW06dP78nT07Bs2TI8+uijadvfyJEj8cc//lHz2o033oh9+/al7RhE/8Hd2ydA9E1mzpyJYDCI559/HmeeeSbq6+uxcuVKNDU19fappcz48eMxduxYPPvss7j88ss17x06dAirV6/G22+/DQAoLy/vjVNUKC0tzfgxcnNzkZubm/HjEFkIIwgdp06dYgDYmjVr4m73hz/8gV144YUsLy+PDRs2jN15552svb1def+5555jxcXF7O2332bnnnsuy83NZTNnzmSdnZ1s8eLFbMSIEaykpIT9+Mc/ZuFwWPnciBEj2K9+9Sv27W9/m+Xl5bGKigr2zDPPaI4NgC1fvlz5/ciRI+yb3/wmKy4uZgMGDGBf+9rXWE1Njem5P/3006yoqIh1dnZqXn/44YdZRUWFcj7icQKBAJszZw4rLy9nPp+PVVZWst/85jeMMcZqamoYALZt27aY73H16tWMMcbC4TC77bbb2MiRI1lOTg4799xz2R//+EfN8WfNmsWuv/565ferrrqKzZ07lzHG2OrVqxmAmJ9Zs2Yxxhg7cOAA+9rXvsbKyspYfn4+u+SSS9iKFSs0+9J/Vvw7ifzlL39hZ555JvN4POzcc89l//d//xfz/f/P//wPmzFjBsvNzWVnn302e/PNN02/byI7IRcWEUNBQQEKCgrwxhtvIBAImG7ndDrx9NNPY9euXXj++eexatUq/PSnP9Vs09XVhaeffhpLlizBe++9hzVr1uDrX/863n33Xbz77rt44YUX8Le//Q2vv/665nNPPPEExo4di23btuH+++/H3LlzsWLFCsPzCIVCmDp1KgoLC/Hhhx/io48+QkFBAaZNm4ZgMGj4mZtvvhmBQEBzXMYYnn/+ecyePRsulyvmM08//TTeeustvPbaa9i7dy9eeukljBw50vT70SNJEoYNG4alS5fis88+wy9/+Uv8/Oc/x2uvvWbp8xMnTkRtba3ys2rVKuTk5ODKK68EAHR0dODaa6/FypUrsW3bNkybNg3XXXcdjhw5AkB2hw0bNgy/+tWvlH0YsXz5csydOxc/+clPsHPnTtxxxx249dZbsXr1as12//3f/41vfetb+PTTT3Httdfi5ptvRnNzs+Xvg8gCelvBiL7J66+/zgYMGMBycnLYxIkT2QMPPMC2b98e9zNLly5lAwcOVH5/7rnnGAB24MAB5bU77riD5eXlaSyVqVOnsjvuuEP5fcSIEWzatGmafd94441s+vTpyu8QLIMXXniBnXfeeUySJOX9QCDAcnNz2fvvv296vt/+9rfZVVddpfy+cuVKBoDt37/f8Dg//vGP2TXXXKM5DseKBWLEnDlz2MyZM5Xf41kgIo2NjezMM89kP/rRj0z3zRhjF1xwAfvzn/+s/D5ixAj21FNPabbRWyATJ05k3//+9zXbfPOb32TXXnut8jsA9uCDDyq/d3R0MADsX//6V9zzIbILskAIQ2bOnIkTJ07grbfewrRp07BmzRpcfPHFWLx4sbLNBx98gEmTJuGMM85AYWEhbrnlFjQ1NaGrq0vZJi8vD2eddZby+5AhQzBy5EgUFBRoXjt58qTm+BMmTIj5fffu3Ybnun37dhw4cACFhYWK9VRaWgq/34/PP//c9Bpvu+02rFu3Ttnm2WefxVVXXYWzzz7bcPvZs2ejuroa5513Hu6++278+9//Nt23GQsXLsT48eMxePBgFBQU4O9//7tiIVglFAph5syZGDFiBP70pz8pr3d0dODee+/FmDFjUFJSgoKCAuzevTvp/e/evRtXXHGF5rUrrrgi5vv/whe+oPw/Pz8fRUVFMX9HIrshASFMycnJwX/+53/ioYcewoYNGzB79mw8/PDDAORg81e/+lV84QtfwD//+U9UVVVh4cKFAKBxG3k8Hs0+HQ6H4WuSJNk+z46ODowfPx7V1dWan3379uG//uu/TD83adIkVFZWYvHixWhra8OyZctw++23m25/8cUXo6amBo8++ii6u7vxrW99C9/4xjcAyO48QHaDcUKhkObzS5Yswb333ovbb78d//73v1FdXY1bb73V1M1mxp133omjR49i6dKlcLvVPJh7770Xy5cvx29+8xt8+OGHqK6uxkUXXZT0/q2S7r8jcfpBWViEZc4//3ylJqKqqgqSJOEPf/iDMnha9eVbQZ9iu2nTJowZM8Zw24svvhivvvoqysrKUFRUZPkYTqcTt956K/7xj3/gjDPOgNfrVQTBjKKiItx444248cYb8Y1vfAPTpk1Dc3MzBg8eDEBO+x03bhwAoLq6WvPZjz76CBMnTsSPfvQj5bV4FpIRTz75JF577TVs2LABAwcOjNn/7Nmz8fWvfx2ALKyHDh3SbOP1ehGJROIeY8yYMfjoo48wa9Yszb7PP//8pM6VyH7IAiFiaGpqwjXXXIMXX3wRn376KWpqarB06VI8/vjjuP766wEAZ599NkKhEP785z/j4MGDeOGFF/DXv/41befw0Ucf4fHHH8e+ffuwcOFCLF26FHPnzjXc9uabb8agQYNw/fXX48MPP0RNTQ3WrFmDu+++G8eOHYt7nFtvvRXHjx/Hz3/+c9x0001x01mffPJJvPLKK9izZw/27duHpUuXory8HCUlJcjNzcXll1+O3/72t9i9ezfWrl2LBx98UPP5c845B1u3bsX777+Pffv24aGHHsKWLVssfycffPABfvrTn+KJJ57AoEGDUFdXh7q6OrS2tir7X7ZsGaqrq7F9+3b813/9V4xFMHLkSKxbtw7Hjx9HY2Oj4XHuu+8+LF68GIsWLcL+/fvx5JNPYtmyZbj33nstnyvRPyABIWIoKCjAZZddhqeeegpXXnklLrzwQjz00EP4/ve/j2eeeQYAMHbsWDz55JP43e9+hwsvvBAvvfQSFixYkLZz+MlPfoKtW7di3Lhx+PWvf40nn3wSU6dONdw2Ly8P69atQ2VlJW644QaMGTMGt99+O/x+f0KLpLKyEpMnT8apU6dw2223xd22sLAQjz/+OC655BJceumlOHToEN59913FAnv22WcRDocxfvx4zJs3D7/+9a81n7/jjjtwww034MYbb8Rll12GpqYmjTWSiPXr1yMSieCHP/whhg4dqvxwYX3yyScxYMAATJw4Eddddx2mTp2Kiy++WLOPX/3qVzh06BDOOussxWrSM2PGDPzpT3/C73//e1xwwQX429/+hueeew5XX3215XMl+gcOJjptCaIPMHLkSMybNy/jLTwIgkgNskAIgiAIW5CAEARBELYgFxZBEARhC7JACIIgCFuQgBAEQRC2IAEhCIIgbJEVleiSJOHEiRMoLCyEw+Ho7dMhCIJIGcYY2tvbUVFRodQa9TWyQkBOnDiB4cOH9/ZpEARBpJ2jR49i2LBhvX0ahmSFgBQWFgKQv+hkeiERBEH0Vdra2jB8+HBlfOuLZIWAcLdVUVERCQhBEFlFX3bL903HGkEQBNHnIQEhCIIgbEECQhAEQdiCBIQgCIKwBQkIQRAEYQsSEIIgCMIWJCAEQVhm7b4GvLujtrdPg+gjkIAQBGEJxhh+9GIV7nr5E7R2hXr7dIg+AAkIQRCWCEUYOoMRSAxo85OAECQgBEFYJBiRlP/7Q5FePBOir0ACQhCEJYJhVUC6SUAIkIAQBGERjYAESUAIEhCCICwiCohf+D/RfyEBIQjCEsGIanWQBUIAJCAEQVgkIFgdgTAJCEECQhCERSgGQughASEIwhKUhUXoIQEhCMIS2joQCqITJCAEQViELBBCDwkIQRCWEAUkQAJCgASEIAiLiC4sskAIgASEIAiLBCgLi9BBAkIQhCWoEp3QQwJCEIQlqA6E0EMCQhCEJaidO6GHBIQgCEtoXFgkIARSFJAFCxbg0ksvRWFhIcrKyjBjxgzs3btXs43f78ecOXMwcOBAFBQUYObMmaivr1fe3759O2666SYMHz4cubm5GDNmDP70pz+lcloEQWQAqgMh9KQkIGvXrsWcOXOwadMmrFixAqFQCFOmTEFnZ6eyzT333IO3334bS5cuxdq1a3HixAnccMMNyvtVVVUoKyvDiy++iF27duEXv/gFHnjgATzzzDOpnBpBEGkmFRfWhs8b8fCbOyl2kmU4GGMsXTtraGhAWVkZ1q5diyuvvBKtra0YPHgwXn75ZXzjG98AAOzZswdjxozBxo0bcfnllxvuZ86cOdi9ezdWrVpl6bhtbW0oLi5Ga2srioqK0nU5BEEIPPLWLizecAgAcEZJLj66/xrLn/323zdi08FmLLr5Yky/aGiGzjC7OB3GtbTGQFpbWwEApaWlAGTrIhQKYfLkyco2o0ePRmVlJTZu3Bh3P3wfRgQCAbS1tWl+CIJIDUli2FvXDkkynlMGUnBhtfvDAIDGjoD9EyT6HGkTEEmSMG/ePFxxxRW48MILAQB1dXXwer0oKSnRbDtkyBDU1dUZ7mfDhg149dVX8YMf/MD0WAsWLEBxcbHyM3z48HRdBkH0W17afBhT/7hOsTL0pBJE54LT3BmyfX5E3yNtAjJnzhzs3LkTS5Yssb2PnTt34vrrr8fDDz+MKVOmmG73wAMPoLW1Vfk5evSo7WMSBCFzsFGOXe4/2WH4vriIVHcogmS83/5o7ONUVzCFMyT6Gu507OSuu+7CO++8g3Xr1mHYsGHK6+Xl5QgGg2hpadFYIfX19SgvL9fs47PPPsOkSZPwgx/8AA8++GDc4/l8Pvh8vnScOkEQUXiL9na/sZUgWiCMyUF1n9tlad9dIRKQbCQlC4QxhrvuugvLly/HqlWrMGrUKM3748ePh8fjwcqVK5XX9u7diyNHjmDChAnKa7t27cKXv/xlzJo1C4899lgqp0QQhE24W4rHK/SIWVgA4A9ab2fCs6+aO0lAsomULJA5c+bg5ZdfxptvvonCwkIlrlFcXIzc3FwUFxfj9ttvx/z581FaWoqioiL8+Mc/xoQJE5QMrJ07d+Kaa67B1KlTMX/+fGUfLpcLgwcPTvHyCIKwiiogiS0QQHZjFcOTcL+SxJQAfEsXxUCyiZQEZNGiRQCAq6++WvP6c889h9mzZwMAnnrqKTidTsycOROBQABTp07FX/7yF2Xb119/HQ0NDXjxxRfx4osvKq+PGDEChw4dSuX0CIJIgoQWiE5ArAbS/ULshCyQ7CIlAbESRMvJycHChQuxcOFCw/cfeeQRPPLII6mcBkEQaUCNgVhzYVlN5RWLBykGkl1QLyyiR6hr9WPHsdbePg0iDlwQOgLptUBEoekKRqiPVhZBAkL0CHe9/AmuX7gen52gos++il8QkIhBMaFRDCSZ/XIoDpI9kIAQGYcxhs9q2yAxYPXek719OoQJYqW5kRUSsGuB6LK1sikO8mb1cfznk2txwKR2JtshASEyTnsgjK6oH3zTwaZePZd/76rDzf+7CXWt/l49j76IGKswysTiMRCXS36Px0wS7lcnNNkUB3l7+wnsP9mB9fsbevtUegUSECLjnGxTB+sth5o1Fc09zUubj+CjA01kCRkgZksZBdK5C8vjlgXEamddvYBkkwXCJ0bdFsU02yABOY053tKNx9/bg/q2vj2brmtVG+j5QxKqj7T02rm0RWfWHSaZRv0Z0SVlSUBsZGEBQEsWWSBcQPTuvMff24Ofvr7dMJaUTZCAnMb834ZD+Muaz/Hy5iO9fSpxqdMJ3IbPe8+NxYXDLNOov8IY07ik4rmw3IoLy14QPZsaKnYbCAhjDH9bdxCvbT2GT46c6q1T6xFIQE5juCugtbtvP5DcQnI65YdsYy8KCJ9Zd5KAaNAHyPUWSERiymyaWyB20niB7IqBdIXk70m8xkBYUr6rDz6rN/xctkAC0sd45K1duOUfmxGOJPap8ll0X8+r5wJSViq3qdl29FSvrUzHZ9adQRIQEf09pLdAxBReVUAsBtGD2RsDMbJAxP+v2E0CQvQQrd0hLN5wCB/ub8Shps6E23MB6evrU/OMpwFFTcjxdiEUYdh6uLnHzyMiMXQGea1D3/7Oehq9GLTpLBBRQNzJxkCi2zkc8j6yygIxCKKL38vBhk4cbMjeFF8SkD7E9qMtyv+tDHDcDdPX15mub5eD6DleP0pLGgH0ThxEjHt0kQtLg14M9C6sQER9n8dAki0kzPF1A8geAWGMKd+B+Azqn8eVu7M3448EpA+xTchOsuKjP10skPqoBeLzdqO0uG8ICAXRtVh1YTkdEbicxplHZvABNccbFZAeDqJ/3tCBbyzagDVpTt32hyTwdoD6xbZEstmNRQJik0zM+rcdVTM2rAxwnYHkHuTeICIxNETXwfZ5/RgYFZAdx1rQ1cNxCHFQpBiIllgBMXZhOZ0SXK4kBSS6XW4vWSDv7azD1sOnsOyT42ndr3j/GlkgLqf8ftXhUziVRXEfkbSsSNjfeOL9Pfj7uoNY/qMrcOEZxWnZJ2MsaQuED4h92QJp7AhEM1IYfN4AHA75wYpIbjS0BzBiYM/dguKg2NlDMRB/KIK7Xt6Gps4AyotyUFGSi5svq8SZgwt65PhW0cdAYiyQiCogTsUCSa4SPcfXBUBtqJjjsbaaYarwLMV0PyddQWOrQxHMHDmO2dFVjDX7TuLr44Yh2yALxAZVh08hFGHYfqwlbfs82NipScdNJCCMqQHhvhwD4RlYPq8fDof8mscjz8aaenhWJhYP9pQLa+uhU/hgdz22HWnBv3bW4R/ra/DY/7e7R46dDJYtEIekuLCs3nd83/IEoucD6bxw0Y6lHm/JClFAxH0rFogromQefvBZdsZBSEBskGjdBDts01VnJwqi+0NqrrnVmWBvUNeqCgjH65FdWs0dPSsgbcKsuqeC6FxAC/JaMWrYPgDAzhN9r629VQFxOCW4nPL/k61Edzkj8Ljlv3lPpvKeinb/DST5nLT5Q7jqiTV4YNmnhu+LLiy/QRaWyxnB4FI5/rF2X0NMN+NsgATEBvxha0tjAd82XcVqRyD+vsUZdF92YfEBNEcUED6I9LAvXOPCCkYg9UCbiZPRDLSi/DacecZ+AEB9W6DP1ULwPlhul3xeZkF0lzMCp80YiMsVgTdqffZkS/fW6LH8SfZg21PbjiPNXXht6zFlHyLdJi4svyAgxQUtGFLajNv/Y1Sv9oDLFCQgNlAExGTtaDtwCyQ/tx1AYh+9RkD6tAtLDaBz+CDS04Oo3m3V1QPCe7Jdvm6v1w+3O6L4xffU9a11UXjLdZ9X/nvFpvHGurCsCwiPn8RaIEeaunC8pTvFs49PS7d8rGSfE+5GjkgM6wy67VpxYTkcwP/74nbc85/nojAn8frxpxsURLdBul1YXcGwMqAMLGlAZ3dhQh99p84CYYzBwYMMfYg6AwvE00sCop9VdwbCKPBl9hHgFggfmAvz2tDtz8ee2nZMPGtQRo+tZ/Wek9hc04yuYBjdwQi+9sUK/L9zBgMQ4xR++f4LhiFJDE6nfE9psrB4DMRqHYjgwuKTh1NdQbR2hfDVP3+IXK8LG+6fBJczM/dvi00LRMzUW73nJK4bW6F5v0sXOOfPIBdM/j1lMyQgNuA3YrpcWJ8ea4XE5Dz5/Fy5ajVRED1mhhiWeiyrJRnEIDqHx0CaejgGov/OOgJhDMnwMRu4BeaRr78wvw0nm4cmbYE0tAeQ63XZFrzOQBg/eGErQhHVbffJkVNY+ZOrAaj3NP/bMAZ0BMMois6alRiIw34WlsultUDW7DuJNn8Ybf4wWrtDKM332rq2eDDGVAFJMgYiPoNr9jVoBBUAugWBYUx9Bvn1OvuBgJALywaqCys9Fgjv2Flc2AyXy1q3WL3AdPVRN5YiIL7YGEhP1wPoW7j3RENF7sLiAlqQJwvHnrp2y/uob/Pj6idWY+pT69DQHkj8AQM6AuGoeDAMLz8EQA0uA6qV4HGHlEwpUXCN6kCSbWUiWiAtXSGs2qNmJmXqXugORZQUZH/SLix1++bOYEzWpf6Z4+OCXxDMbIcEJEnEttdGLa/t8MnhFgBASeEpuK0KiK4Qrq8G0nkWFq9CBtQYSKbTeD9v6ND4pvWC3xO1IDEurHxZQPbWtVtqmAkA7+6oRWcwguMt3bjzxSpbwVgxsDtqmBzMF+8xvxAk561KRMFV60DUSvRgWLKUiMAHbjEG0tAewJq9alxBDKqf6gxi3pJt+OhAY5JXGYu436RdWLpncPVebRwkVkCk6Ovy5/qDC4sEJEnEttdt3anPYDsCYaw/IN+YA4qaFAFJ1oXVFwPp3cGIMmj7NDGQaBpvp73ZtBXe21mHSX9Yi8ff26u8ps9sy7QF0iEs5cuvPy+nEy5nGIGwhENNXZb2897OOuX/Ww+fwsNv7opbn2BEIKwKABeIYFhSxMgvuF3cbvl7ESdIYh2I6JqxMiirFkhYmTys29+gqXsSF5la8Vk93qg+gUVrPk/qGo0QBSQUYUkt8MTrrLhbb/UebS2H/plT+2L1nxgICUiSaGe0qVsg7+2sgz8kIS+nA0UFrYoLK9HsWD/49cV2Jtx95XKGFWEEhCysDMZAnvuoBgCw43iL8ppedDPdzuSk5vp5R1qgIE92X1mJgzR2BLDlkNy5+PyztgNgWLLlKF75+GhS5xJQAruS5m+hb4fjckXgiQqMqQtLGBgTTVxCEQnh6KAtxkD0fwvRncZb33D3XyrwDCxOMs8Jf8bKSmsBADuOt2rOSW+B6Fu7O12Zd5H2NiQgSSK6irqCEctuCDOWfXIMAFBRdhQOByy7sPTv90UXVp1BFTqgzug6oy0t0s2hxk5srpEH3UZBpPigxY+f6Wp01X2lHQgL8+VCwj21ieMg/95VD4kBRfktGF5+GGdX7gEALNmS3CqU3NJwOiNKOxlAdVOpqbaS0q5dnCAFhTReh0Nuqgiori8zxPvS5YwoGXjqa/LxRQuEZ+fZjfeI6OtNknlO+AQjL6cTRQVynFJ0u3WHdJO4sDY2RBYIEeMqiO0ZZH8QOtHSjY0HmwAAFYNlIRFdWPHcFDECkoQLS5IYXq86hiMWXSh2McrAAuRrzGRLi6VV6uxcHIT4d+aLxmMy7cIyE5CCfB5IT2yBvLdLdl8NGXQCADCoRB7AGpMcXAOCBQFAsXTbA9rVBeUYCHdhhU0/z4sJE913PP7hgASHgynWJ3+tbKB8ffoYCCBbJclUb4ciEmYu2oCfva5WjusFxI4F4nJFMHiA7L5at08VkJgYiK61EAlIP2fn8VaMe3QFXth0WHlNfwOm4sZ6o/o4GAMGFDUiN0ce1PiDHZZYzDKjIvqMomRmVmv3NeDepdvx4Js7TbdZ/FENrn9mfUq1GmoAXTuAOhxQXBnpTuWNRMWR0xEIwx/N0ec+fX4+mV5U6qQioNrBvjCaibU7gQXS2hXChmggechA2Y3CrafGzmBScRDRAgEES9evXdXS5YwoFoiZC4tvJ37ODCWlNVpUx//uAFBS1Iy8aGGl6GoSkyuakoiTHW7qRNXhU3j9k2NKrCPWhWVdkLhAuF1hJXuO39Pi+xwlBkJZWAQAbK5pRktXCGuFdQQSLbxjFcYYlkfbS1eUqQOe6J+O52LR+++TmVntq5cHrsNxVj18afMRbD/Wig2f28+EMapC52SqGn3d/gbUtwXgcQcUN0tDewCBsKTUQOREU4oz3Q+LWz+8BoRTmC9//8dbuuNOQFbuqUdYYijIa0N+rvy34t9bMCyhPYnzD4S0AsBFgt9HmiC6YoEYB9GB5AXEJQgXtz7LSusVQRFjIOI9kYwbi8dzIhJDYzSOom9Bksxz0qFYIGFlGV8x8K+3vrg4+cmFRQDqAGPWsgCwX0y460Qb9p/sgNMZwZCBJ5TXRf90PBdLKllYx07J1k5dq990FsvdT8m6Soz2IdaAcPhMOt0urNe2yO6roYOPwRud+Td2BITvi8EbHdAzHkTXpfByPO4Qcryy+3BvnHqQf0Wzr7j1AcizWn5/JGO9cWvWFR289W4qv1A97TYKoke4wGiFKJHlq3fnOByyBeZ0RlBWWqsMzEYxECA5ARGf09qopaC/v5IRkK6AKnoeg7iQfj2bGAuEBKR/w9P4xBtT39HTrgvrzWrZ+igrrYPHrb0RrRQTcnHhs+xkXFhHT8mDVyAsGaYii+m3jSm4mPZGLZ38nNg1ob0ZcGE1dwbxQXT1tzOGHIUvKlIN7QFlNi0OBhl3YbUbx4AAtR5kT61xHCQiMcXfzrOAOFwYmzqsD66mLqxArAXiiZfG61RTcuXPJQiiC32hOBefvxkTx65BXm6XElRvMbFATiYlIOq9XNfaHbNfK+crIlogbgMLpCuo/S70y9s6yYXVv+E3pFnXTcB+NTqvRB5UErtOgNtCKi+/uflgkpSANKvB83qDVEmePQXYz4Rp84fweYMsHEUFLTHvZ6If1sbPmxCKyC6fovw2NV7QEVS+L7crLKRKZzqN19yFx1vWHDZJZGjskN1uDkiK2HB8wnVZRR8Ej4mBhPlALxlbIHoXlsVqdKO2Hj5vAPl5skuOu7D4QN8djGj2maoF0tJt34XFn3950sHXFFFrZ7p0dSIBnYCQBdLP4YNOp6bvf3IurHBEwgubDuPASe0s/Eh0EM/NiR1ArBQTcnHhg4nVNg2MMcWFBWiDgkavNSYxyxXZeawVjMmr0Pm8sQOdsiZIGl1Yn0ZrPkoK5RRePnCLLiy3O6TUZPRcGm/sd8hFzGwArm1VA/D6HplKL7EkAsyBkM6C0FkgvPjNaRZEj+iysJzW2oMkcufoXVj6+yE5AREtEPn7U2MgTHM+VuDPmMvF40LyPrgVwgWET4a4cJALiwCg+kC7NTEQvQsr/iC0bn8DHnpjJx5+S814ikgMJ6ItrI0ExIoLS7VA5AfF6oPREJ3ZcurbYgVEfM2ugGw/Jtc6FBecMnw/E8WEO5RjtkSPIcZAVBcW/34zuSa7PxRRBhqvJ/Y7diVIg+UuGJ8vttW5cl3tyVggumC2TiQCwqDHJzBtVoLoCSrRjVxY2muRr6EzGEEwLMWsHZ6uGAj/zqxaIMGwpIimHPhXvzM+aeTNFPkkrjsUiSmczHZIQOLALY94QfRE/bD4jby3TrVA6tr8CEUYHA5J0yOKk6iYkDGm1jR4knNhidYHYOxj1gqIvQF++9EWAEBxYYvh++nOwpIkpggId5lx954cA+HuiJAlF2Gq8IHP6Ygos2yRRC3Ra01SoAGbFoiJC4tbuX5BYIwskJg6EovL2ibKSJLdZdGU265gTH+0hiQmMOJzyhNEuAuLf4+JCh854nXxGIeYicUYU9q5KxZIKBJTOJntkIDEoUswSXnTuJgYSIJ+WHwW2tgRUGZ0PAaR6+uKcU8AiV1YgbC6nC13j3AXRCLE+Adg4sLSxUCS7bsEQOlcWmwQ/wAAjzv5QTAeh5o60R4Iw+mMKK1CfBoLhLuwwpY7Hpux60Qrfvr6dtS2mi+ExIXZa+CCAhILiLqOipEFknwCgmkMJBBGOKKmOCdM43VqXWEJg+gJBESsDWnpDin90figHc8C0TdyFC3K2rZu+EOSct45UUvOqqu3I6gmqTid8nF4i5fW7hACYQn8sfAK8RF1/0xJV85mSEDiIA7gfIbGTX1+cyTKwhKzNg41yoHDo3HiH0BiF5aYkupJ0jRXLRD57k/kwgpGpKQTBU62+aMzaGYYQAcgLCyUno7GO47L1kdhfqvywIvBZmMLxJ6A/O+HNXht6zEsi9bxcA41dqI6ank1tJtbEAAEN5qZCyv6+Tgp0Mm4F/l9y7P2RAERZ+XyuuUh5T0+eRBbmcjnbzGIHtQKjhH8eKc6g2julP+fH50EmE1gHn5zJ770mw8034H4Xda3BpR4isMhKVaC1eekS8jA0p9nW3dYcyyvsG9RMPvg+m5phwQkDuJNojSdiz5sfHBK5MISg+w1egHxGQtIogGuU0wvTHJ1uGPRFF6e2VNvMMPTWyXJxkF4/KMgr10JWOsRV6ZLpkOqGZ/q4h+A1oXFO/G6XWFldttlc110vgSr3gK5bfEW3PCXj7DrRKtggZgISIJCPDWIHicGklQar9pMEdDWgYjn4BSaLUpMTWVXFpRyai0Ky4WEceIB4mSCWyCFUQHpDkWUcxD5YPdJNHYEseuEmqHWJbgkgxEJNQ1qppfVmA1HzNrjiKm8XYKFoiRECBlkovBkMyQgcRBNYiXDQtee26oLCxAE5JR5AB0QLRDjm128ufnMzmpA+GizfGyeqVRv4MLiFeQc0Y3w6bEWpZLdDCX+YRJAB1S3BWPaIjK7fBp1mYkWj9g0kV+DnIWlfld2igm5wIrfkz8UwcHGTkgMeH7DITWF12M8yDsTxBDiWSDcbZnMeioBfR2HS7UyxBoQhyP6L7Rr3uiD6E6LAmKlKpvfC63dqgWS4+tSztHIjcWD42JLH/0a97ujNTYed0gQPGtupS6D4L96niFNcoAoTv0phRcgAYmLGGTtCmkLrhQBScKFpbdA8kwEJJEFoq1p4BaIxRhI1AIZUCQLSENHQGMBSBJTCuByffL5im0hvvHXjbjp75vixkUSxT8AwOlkcLvTE0iPSAw7j7fFHNPtCisum5povYUsupIyQCa7kiNjTIlPnBRcfScFMXmj+oRSRGlUAwLEdwExxgwX4uKIq/qFLHaDVgsJeSsT9R7TD/JyxpG2Ul2fxmt1XXQrA6riwhIsEK8nqCkEFfGHIsrfTVzjRd+aZncdF5CgKtgWLfXEFgi/rrAmo64/9cEC+rGAhCISfv/+Xvzkte2Gs6iIxGJatwOqC8uruLDsWCDWXFhmMZAOvyAgfPZjYSAU04eLC08BkBfYEQPZzV1BZelT7ubi7Uz2n2xHMCyhqTNoOvAyxhJmYHG8aRKQzxs60B2SW3zwAj1AHgi5G6smWtTodsspmXYD6WKHWNECERMPgmEJKz6TK+JNBSSOBdLcGYwO2Mzw8/JMWBZwfdqrGfo6ELGQ0B+KjVOoxYQ6CySFZopmiNXopzp56nNQsbT0AiK2JxGt9C4hgA2o7fK1FojFGAhfVdAgBqIREFdEY40pVehkgWQ3bqcD/1hfg39+cswwEymmz42JC6vdH4rrR9cLiD8UUQYeMxcWn/2ZDW6dws1tdSYIyMFxnj6c6+tSZnji7Jl/F15PQLlGnkrJBRAwt7wONXWhzS/P/HkHUzOUYsIUBYQLVlFBS0zgkl9jmxBEl/+1F0gX4x6i9cYFhFs2yvENigiB+BZIrfA34AkBIg4HNFX2VjDNwgqGhdm0ICBuXgsStUD0LiyLlq+Vojq1Gj2oTGY87oBSP6NfWIqLDKBzYUWfCz4x48W7Hk9QOV99KyIzOpQiQmMB4WuBuIQlfv0hqV8VEQL9WEAcDgeGFucAUB9YEf0Mmw803BXAB1c50Gg+CIndQNv9YWWwcznV9gh6ErXaaBcsEKfFbBhAzcDK8XXD4VCvQRTQeiV91K9WckcL1g4J3XvNYj88FlFY0Go4+Imksjb6W9tP4Hfv7UFDe0DJwCoqaDU4hnYA5wOny2Y1uvhdidYbjyUNLq1XUpSB2E68HFH49e5ANf5hniacbCBdLSTUCghj6tLCXFzk97XroptaICnWgQCiCyuoTCasWiDis8ef2bxo52LudpMtEGvNH5V9cReWcN7GFoh2EpeocDLbSElAFixYgEsvvRSFhYUoKyvDjBkzsHfvXs02fr8fc+bMwcCBA1FQUICZM2eivr5es82RI0fwla98BXl5eSgrK8N9992HcDjzWQxDimQBqWuLfVD1gze/8fgD4XGH4Ij6183cWJLElJbbPPNn3X65QV5uTqdpmp/VLCwzF9ab1cfx8Js7lUGDo8/+4gIh9sMSW7DrB6lDjarFZGaB7Dwemw1lht1+WN3BCO59rRqL1nyOa/6wRlkz3ChoH7OYlVtvgST3oOsnG9x646/n5XRiWLm6foypBeJUB3D9ui+1goib4VPE16qAcAtCCJhHraWGqBXDzwnQDpYAEDCJgaRaiQ5oi0pbugUXlkkMRLxf2v2xApKfq03y0GRhWRSQToM0XrESXePCEiZx/amVO5CigKxduxZz5szBpk2bsGLFCoRCIUyZMgWdnepM9Z577sHbb7+NpUuXYu3atThx4gRuuOEG5f1IJIKvfOUrCAaD2LBhA55//nksXrwYv/zlL1M5NUskY4GIRYUAz5ePbfkg0u4PK8VGPDvow/2NAMwD6EDiLCxFQATfrjizevy9vXh+42G8VX1C8zkl9hI9Ns/wMfLl5/j86gPMBUSwQPTrLHB4iitfKCgedl1Ym2uaEIwWvrX7w0rKbHIWiD0Xlt7dyS02sXX98PJDcDoj8Hr8McfnOF2qaOjjILyNiRULxGoxoX49EIcDcEXvX97VV7RAxP0zxkyzsBJVoqvNFM2/Z26JH2rqUp4XjzuopEDrq9G1MZBYFxZfO0Xdf8hy1hiHpw6LQXReSNgmZmFpXFiRfufCcqfy4ffee0/z++LFi1FWVoaqqipceeWVaG1txT/+8Q+8/PLLuOaaawAAzz33HMaMGYNNmzbh8ssvx7///W989tln+OCDDzBkyBB88YtfxKOPPoqf/exneOSRR+D1elM5xbiURwXEKAaiH1iUILoQcHS7QgiGfKbuHD57cznDKMhrx6m2QYq7xSyADiS2QNqF2RGf2YUlhlBEgtvpUCyGpVXH8M1Lhiuf4y6sPL0FIrqwhPoDZT2NaDHXIQsxkOMtPIPLfPDj2A2ifxRdpa+i7AiK8lux/8ho5Hj9hqLl9eoFRGeBJJnGW9emF5CA5vUcbzdyfX5MGLsWDgcztTKdDgaHIwLGXOgORTBAeE+tATG3QJKPgcQGd92uMMJhr3K/iFaCaH3yKnXx8y6XxfVAkoiBKKnWriCcTmbJAhGfkU4LFojVbMV4FoiZC0sOoicunMwm0hoDaW2VB8fS0lIAQFVVFUKhECZPnqxsM3r0aFRWVmLjxo0AgI0bN+Kiiy7CkCFDlG2mTp2KtrY27Nq1K52nF8PQOAISs1ylbuU2l0sSegYZD6ZcQNzukJIdxGdYZgF0QB3cukMRhA3SNI1cWHz7rmBEcVd8XNOsGfS5Cysnx9yFVSesYy5Wcjd0BDQFXWZdiHmWV04cgeTY7YfFrbhBJScxoqIGX770fUz44lrDwVpfh8GtRrtBdH6vcHcPD/Dql+8tyOuImQnrMUuAiJfCyxEXy7KCvpAQUL8DPkCL9xL/2zR2BJRYAmC0ImH8AdlvEKDX4/Fo7yV+bLMYiLjGB4/RhCNq2xL99+71qAISSMUCcauNH/kEyuVUs7BCEaakFVMMJEkkScK8efNwxRVX4MILLwQA1NXVwev1oqSkRLPtkCFDUFdXp2wjigd/n79nRCAQQFtbm+bHDuXFufJxDNp56GemnToLRGz5YDYb5wLicYeUwB7HioCIxxURc9TlliqyKvmDkZjBWFwfPNYCkX8XXVhiEJ0PUsGIhE+Pat1DrQZWVyAcUR72eO4XjseGC6uhPaCspTKwRBYSl0vSDIwiooA4HBHVh5/ATWgGz8LiLsn6toCmdsZo9UUzzDryxisi5KgupiRjIDoLBFCtGP2aHfJ7AWVglrfRu7DiC7CVugh9MgkXEJ6F1dSp7VYg3i/8WRCLCL2eoCaRwZYLK04rE0C11MVCQkBtzdNfXFhpE5A5c+Zg586dWLJkSbp2acqCBQtQXFys/AwfPjzxhwwoLzKPgcQE0YPaG1BsOpfIheVxh2JW5YsXA3E6JaXXltEMWUwxlJfAVWey+sH4n58cQyTq3uKDnxIDiQ4SYu+resECcTnVxYW2HG7W7NdINMXZuVEHWj12LBC+Rnthfovy+bjH8IoDifpdphoD4UkCJ9v8aOpUa2fMsq6MMLJAGGMWXVjJZbApvbAMMq0UF5bGAlGtT6WNiUNSrDx+73cZZJGJWHFhyX2jhGwnj1pMyGuVxLiHUQyEP58OyM+OKL4ed1BxuVntxqta+ep5ORzqd1Yr3Ovid8rrcqiVSRLcddddeOedd7B69WoMGzZMeb28vBzBYBAtLS2a7evr61FeXq5so8/K4r/zbfQ88MADaG1tVX6OHj1q67x5DET282pvLH12TpfehaVpe53IhRVETk63pjtnIhdPPBdLh1/rxxdrCvhgnJ/bDrc7iNpWP9btb8Df1x2ExBAN7qqZVoA8gAfCcgYJn0HxB5Bvu/WQNsPJyIV1vEWbJpwIUUDMBqGVu+vx1T9/iK2HZAHj7itufSQ+hiog/OGX/59YQDoCYfzs9U+xao98P7b7Q4pFyIsk69v9iuia1W2YYWSBtHWHlUE3rgsr2SC6LgsLiHVhOY0EpD0QE0CXz13NIjOLg0gSMyxS1CN35FX/Njw25nQy5R4R3VhGFohqMcjtWMTvTrRAEgX9OZ0GhYSAGgfhXgt39HjKOvVcQMgCSQxjDHfddReWL1+OVatWYdSoUZr3x48fD4/Hg5UrVyqv7d27F0eOHMGECRMAABMmTMCOHTtw8qS6tOuKFStQVFSE888/3/C4Pp8PRUVFmh87DMz3wuGQ2zLr18XQFxJ2BbWLxTidETUrwySNV7RAnA6mBHm9noBpk0FOvEppLm6KgDjVWRh/uHJ83Rg6SO4We8cLVXjifTm9+oyyI8rg7nEHlZlfQ3tASUnlCQKA6srg9R08QNlqICAnWhLXL4h43aqLrN1kIH9p8xHsPN6GO1/6BA3tASWAPrCkwdIxxH5hmrYUShDd/O/wyuYjeHXrUTz6zm4AqvXhdgWRF7Uo69sCMfEPq/BBRrMQUjSl3OMOKLNmI8RW9Yna7Yc1960gAlGLTC0kVN/jf/f2QFixNjWfdUbAXadmtTRienKimIBoTWr/H83EEp7PU0YuLCGoDagTIIdD0ga6w/EtJg5vzOjWZY9xoePWPH/2+D3GrSMKoltgzpw5ePHFF/Hyyy+jsLAQdXV1qKurQ3d3tF1GcTFuv/12zJ8/H6tXr0ZVVRVuvfVWTJgwAZdffjkAYMqUKTj//PNxyy23YPv27Xj//ffx4IMPYs6cOfD5fKlfYRycTgdyfdEsGl1n1U7lhlTXahb9p6IFYhZQVgQkug8uILzHVDzi1Sno+/QYWSBedxBnDDkCQC4Cc7tCuODsbRhz5g5lP/JMTU1DFQPoXGT4A8wzcbjv38iFdaIlcfqpiBy7kK/BbGVCXk3c0B7ArGc/Rm2rH05HBAMKmywdQ6zadguzXCsurLe2y2nQNY2daOwIqIs8+fyaGAG3vIxWD4yHUW2ClfgHoA6ygbCUsBhSDIIbBdE5+lYmfHLBr1u0QMR2MF0mcaRkFlcS4yCigBgF0sUlAIJhOXiur6bn8T25Xku9NsbU7yMQjuDzBq1rmdNhEAMRz1OJhbq0xz1FFoh1Fi1ahNbWVlx99dUYOnSo8vPqq68q2zz11FP46le/ipkzZ+LKK69EeXk5li1bprzvcrnwzjvvwOVyYcKECfjOd76D7373u/jVr36VyqlZhguIPg7CK1H5TK8zGNZknDidkuHKbSJiFhYAJRMrXgCdo/bDih2o9Te3GCDkayB4PEEU5bdi1Bn7cUbZEVwxbjWGDTka2+pDiYMEhAB6d8z7HO77N4r7KMv0JjGQqqvrxQqIPxRRalecjgg+i3ZXLSlqjjs718P/hloLRP7OzAbfmsZOJeUaAKoOn9JkR3k9ATggW698u2QtEKfBuuhWMrAAHrzldRzx3VgBzX0b68JS9im853CoxYr876qfVfMqbbPvsFuIFyZyaYouLI8oILzdTlRAxIaFnM5AOKZ3FRdgPuCL1+aPptre/88dmPSHtdhySBvfA4y78QIG35lLux33RvSXLKyU6kCsmII5OTlYuHAhFi5caLrNiBEj8O6776ZyKrZRLRDtw88tEK8ngC5/gcYC4Q+Ex2DtaJE2wYUFAEMHH8OptlIMi1oG8TDLEhKXs+VuJrUxn6TM5L0eeSW8c0fujnscNRPLL6xyqH4X2kI4phTrGbmwjidpgcj7D6I7kG+YTfR5QwcYkweBc0d+hl0HvgjAuvtKPUasgCSyQPRFmFWHTyHfKz8uPp8/2gomAH8wV3HvxQt6G2HowrIQQOd4vQF0+91o6gzgYGMH/rr2IH7z9YtwdlmBZruAQRAc0MaEgNhBz+uRr08VEEm3fRgImXc0Tqa1ucYCETKovIKFDKguIvlaJEiSGx0BtZ8XnxjIEx2GwvzW6PZMFnw44Q9HUAyPks234rN6XDqyVDkmY0yJgegFQ58xpndhqa+TgPQLTC2Q6A3Es3i6grFtCiy7sKLbFRW04fKx6y2dl1mQV1zO1tCF1aW6sKzAB6r//bBGeU2cSYtpsLk5XcpgHNeF5U1sYXHiVaNz91V+bjvOKDuC9s4inGwaqsR2rMKvUXRhxQuiM8bw5nb5GKXFDWhuHYyth5pxXrkca+Pfj8/rhz+Yq5xnIreTnvguLAuFmJ4Auv352HroFJ5euR+dwQiWbzuG+6aO1mxnVEQIxHdhAdF7vxM40arGE4w+bybCybT1EK0O8f88W/FItIZJdNEyAEHJjXa/2BBSPpeCvHZcdckK5f6S3VgSIpJTOS++Ds3Gz7XuULk/mfz/WBeWsejq08j7i4D022aKnLwcbSUxh8/8+QAqC4g2o8TjsubCMmuaGA+zlu7q7yzG/yrGQDwWUlwBoCjasv14S7diQfA1xQFtGmxeTqfaZC8Q1nQhZowpQfTkXFjm6ah8YC7Ia4fDAYw5cyeuunQFcnOSizUMKG6CA5KyiBYQvw5k14k2HGzohNMRwXkj5WLWHcdblaJM7l4SG2qKr1vFKAvLSh8sDr83n3h/r2IxHz8Vew5q7ZJOANw6d4zufT74xrVAYF7NL7qwEqHJwtIIiPydH4620TkluGjFbgKqC0s9Vo7Pr8mK4+/x74MXJO460aqxqDXPmF509QLi5Iks2u3ita/PJsgCMXFhKTGQ6ADaHYoojeNUCyS+C0sfA0kGMxdLh+JjDSvuCNWFFVaCeFZqJACgouwo8nI7EAz5EJFccDkjGDxATasWXVj5uR3Kg86YnKFTnOsBID+MSvppEjPxeMWEqgViHOi0SsXg4xhSWquJmyh1DAaD39vR4Png0noU5rfB6/EjGMpRfOU8WK53M9l1YWljIDwgb8GFFf3uwoKQ80mAiGKBOLSDmkvvwtINgr4EApLIAkmmM63XxIXFBeRoc3e0HoQ3WwwgHJbvvQ7RAolTfyEuKiX2rZIYsKWmGZPPlwuYu3R1ViJmFogzTjwpmyEBsRADAeSBRr9YjOrCSpzGmyziw9nSFcQPX6zCpSNLMfWCcs374vl0ByVlJm/WxE+PwwEMKDJfetans0CcTgaXM4yI5EZbd0gRED5weT3+mIEmHooFYhAD2c8FJC/+ErpW0AfdVQGJIBCOYO4r1dhV24qK4lxlNcHyQcej308z6psqlIFadGGJJB1EN4iB8FmxOIiaIU4Szhy2DwePnat0GxDRrwXC0aeSx7iwPNpCU6fDxAJJkIWVjAtLXmNctCK64XBEEIzIqbN8guRxh8CYPLq3B8LKhC9RwSIgu9ZadM1ANx5sUgREiTEa7CtGQHhvsH7qwiIB8akPiSQxOJ3yTclnpnwW5g/FpgpyF1YwIsEfiiDH41L2K0lMsUzsCAh/ONsDYSzZchSbDjZj08FmJe1QGxDm2TChlNxmRohCxGeDbncIkaAbrd0hDI++ZycDS96/sQsrFJEUl1FBXmoWiBFi6/Jfv7Mb7+2S2+bwNePdrpBiiZVEBYTDLSxRMFyuUIxLKBFulzqgcZK5ZwYUNQFgGHnG56gcWoODx86NLhomweNSvdP6Trzq8eNbINx9yQ2cWBeWvH1aYiBu1XIWZ/0OhxwH6ewuxOGmLs16IZLkVI6fjAUiF8xq7zcxDhJvX259EN1lLFyUhdVPyPHK7RLCEtDYGUBZoVydzmdVYgygRSkSEvspMQAOtPlDGgFpD4SF1tT2LZAOfxivbVEr7d/dUSccW4bfvCcUK4rFNKizi8spIcfbBX8wFwXReInbFUIAuRrXXbI1IByzIPrhpi6EJdnaSTa2YAW+LjqDEy9sktfvGD1qBzzuIPzBXAwoalKslgFi7MQZFoosVQFJ1vqQz0EbA5G7AfA1yxP//QYNaMCky9+F2yUHfZ2OCCTmQl2rH8NL85TtLAfRdYOevhGl3gLhRXZmxZiKxW6hrUdJYQvKSmtRapBhl5fTic7uQhxq6lRjIO4AwhF5+Orwh9W6rbgWSLSdiSAgHncAobAPu+va0NIVREmeV9OsVI8nJm5k/N2SBdJPcDrldacDwVzUtfoVAVGysNwBcJFQ2hREHzTeGycc8aKtO4yyQnW/PDPLqeuVYxV+826uaUZrdwguZxhlpXWobRymeR8QBKRFLZ5yOqy31EjExed/jGDIi1wltz42++xEEtlDItxVo69lOHBSdiPlRwPo6YYXwoUj8nIBw4YcwoiKGsNtC/NbFbedWGQpCkiy8Q9AvY94I0A1GYMZDl5GuIV7McfXjS5/AY6e6tIJiNUgurELixMzSMaJIwHJubCcTgnjxmwxfC9XCaRrLZBQWC407giElaaO8b43sYMwY2ptVigcRGd3ITbXNGPqBeWmbUwAwONS71OHQ1KC9DFB9H4iIP0+CwtQZ488lVeSmGG/f6MqU/3KbZxU4h+A+iDw/ZQPOo4Lz6lGSbQCW/R/85kjz8CxGv+wSmF+m6b3lMcg9mOnBgQw74elZGClGECPB/+OC/LaMHrUTtPtnE6G4kI5TiRenxgfsmOBcDcab3nOBdltELy1Ancf6jOxzCwQ/QCpn+joi0jNYiiJCglTnY3zTtaHGjuV2IXHHVKSADoCggUSx3WkdWFF9+MJorRYvre5GyueBaLpZiC4QcXjOp32/n6nIyQgiF0bXMyKcbsiyoPGZz/apnPGHWVTFRD9wz2s/Eh0lvYxzhy2F2cO26duGz0fvnJbuuIfZhhln6UaAwlGtC050hlAN2PQgJPwefz4wrlVCSvbBxTJbixxITC5l5j8uWTbmACxWVi8itlO1h6grvOiz8RSYiA6F5TTwTQrBeoHevk+EhaTMgmim7Uy8SeRhRWPPAMLxOMJaNy83bo6ECNcBjEQjzuE0mJZODYd5AJiHgMRn2etaKj/7y/uK4BcWADUWSW3QDqFPHCnM5oVEjLutGm2LkMqKbyAdvaTn9umrPft9YRwzoi9mm35+fAJvNUUXrtwgRKtLjtFhIDakiMiudHUEURhjpzV1RMWyAVnfwrGPrU0W6wcehASc+CMMjUeJVej++EP5NmzQFw6AUlx0sHFTZ+JZbQWCMftCiMoycOAfuDjfcSCoZzo503SeNNQBxIPXkx4uLlTyfrzutU6kI5gWHA7xbFAlO9bUuKZXncQA4pkC2RPXTuaO4Oazr4x+xCyEF0motGfBIQsEGgbCgLa1cjE9TaMOm2KS3+K6BspJos4+xk25EjcQU5/o1stIrSL26WNgQTDktKrKFkXFhDbD0uSmJJtlkkLBIBlV4PXE8K5I/bErHaXH50d6xcMs4I+iN6mtOm3KyDxXVhGi24ZpYOLiO5Q8zReYwHRZy3aJdfXBQck+EOSsviZVygkFC0QazEQNY3X4wnC5w2iIE9OEPm4pslwNUIRLvBGiSzy6yQg/QqfYoHI/+pXI3PrXFjig6gu/ZleF5bcy0qC0xFBRdmxuNs6dWZ7umMgejyKC0v+t77Nr2QB2bF+PDo34PGWbvhDEhyOiKXGk73J+Wdtx0XnfIKBxcn15wLUGIJqgcjfZ6oWiKkLy8QCAeSFmIzWMhHjIOaFhMYDJp9UpTqhcToZcnTdB+RFolQBsyJW/Pz9YSEGEv2u5ZRoOQ6iPP8m7jDuVRDraJwm7qxsh1xYUFtQ8BiI/mbk/zbrsrAA826y4mJSdvB6Qhg3+mO4XOGEg7K+4MlqHyy7uHWJA8kuJKXHp3MDqhXonWnNJssEebldyMu1J3KmFojtGIj8dzjRIldtu6I1TWaFhOKxzFpvaCyQJFuZHLcZFzMiL6cT3f58APLSxC5XRInFdRh04zVCTFpoUWIg8r+lxY04WjcKmw4244Iz5J5n5hYIn0iaWCAkIP0LXhhW2+o37MSppivG+nR5nYhZDMTubBIABpeeTLwRYh/+zMdAtC4s7jKx474C1BkqF+H9PIU3N7Puq95GDKJLEhOysOzdMz6vHw5ICEtOnGz3Y2hxLgAxCytWQNRCuMRrysfUgSQoJOT3RboEhJf68WJDt9CLzqz9uohaByIJQXQuIPLe99a3oyjXHXdfbsWFZRIDIRdW/yLH2w0HJASivvwuXRZGTJWp8Ls6e06vCysZYrJneioGEp0xH2hQLQY76DPZdtfKwlGYn+UCIsxwA2FJqEJPrqKd43QwRcTFOIjRcrYcPkkyc7toLRDjNGCjQsKuYFhYHjl1N6QYY+KDPj/3dn8ophuvEUoab1iNgXg9/F81DlJ1+JRm/3qUGAgF0UlAgKiPNfrgHWrsjMno0JvF2iwsPnvWWiCpZtQkQ0wBmIU+Sqmgr33ZF11XgT+AycLPVxUQeT98LYdsRfy7dYciSgzErgsLUK1AMRMrYNKNFxCXRTYREG+cIHp0sA6GJYQi2ve4gLldIduCKMJTeQH1mePnLi4pHd8CUV2GLQYtf3g9iGTSyp3DE2PE950m1ki2QwIShc9wDjd1KY3ZzB4uoyys5s6gsk4HkHoabzLELgTUMzEQPuDx5oO2BcTLExECCIQjSgwk2wXE4VCtgu5QRLVAbLqwACETq0W0QMzTaRMJiC9ODEScoetrQY4pcbH0JEGIAqK3QFRi26+L8EG+sSOgPKuitc7dWBwzC6S0pBEuZ1izvXjc/tLKHSABUVCKlZo7hb46xoE5cSbHb0CJQdOgrSddWPqBIdMuLH5N3SE5GMlnuwU2U25FC2R/fQfCEoPbHbRVW3G6odQmBMNqDCSFe4ZnrR0zcmHFC6JbcGE5dJ93OpmybnqHLpCezvgHwGtBWPSceDJLrGcgbrp79Bp5sozLGdY8y7weRNneREDKSusx6fJ3UT5IXbWSXFj9HC4gh5q6YtJ49TN8Tcqeg8Fj0M8p3V1x46GZ/TgjGb+BxSDv1kOyv9jn8Sv+5GQRYyB83fOi/NZ+0Q7CrbhVJMUVk8qkI0cpJlRn/movrNj7wuwe58SrAwGEtvi6QDoXsHSlYTudkuKe48+UXKMluq/iu8q4gNa3844N2u/Z6wmhIE+1euPVlOjvzf5aiU4CEkVc+Uy/vnK8IDoQu6aFmFHTExaIvFynfE5edyDjA6+YAcMXWeKdeu3gFRIRPjsRjX/YdIedboiLHKWahQUkcmHFCkBR9HsuMMl40/RcM8ziimZi6QLp6Uzh5fBnVDwno2UNzODPrZH7iqNxSyXhiqIsrH6OEgNp7FJ6Mrlcxi4ss4V3GqNB4I5gWAnE9UQMBFBv4Ey7rzj8uhQBSaFiXOyHtfWwvL/Cgv4hIEpH3mA4pfVjOEox4alupTllvELCAcXNuOqS93HeqF2G+3M6VQvb0AVmUo1+PGoBpSsGAgCVQ2swoKgJg0vVFTPNmhsaYdzrSwsPpAPxLRA9TqGXWn+yQKgOJEpu1MfaHggr5r+VNF4gthCutUv1K5vl16cblzOCEDIfQOd43CH4A/Ja4UBqFoPYD2uXYoFkdwCdwwe91u5QUmuBmCG7eRgCYQmNHUEMLvTFjYHIn4mftZef14GWNp/huixm7UwyYYEMGViHIQPrDI8PxK6wqCcmVmggIAOKmuB0RuBwSAldYpp9O+R4EGMuqkTvj8gLJ/nhD+YqbhR+Q+pnImYrt/EYCO+Km+mKcBHVhdVDFkjUzRKKyLPcVCwQQLacIgE3GJPXWUh1f6cL3AJpaOeDuPW1QIwQ17c53tIdFZCoC8ugDsQKXzxvK7r8+YYrQxo1VNT2RstsKxqjdXHMiOkZZyDUXk8Il174ERxgSXdBcDklhCMucmH1V/jCNTyYqWZh6dN4tTM5fS3I59E01LwMdpLVw8/Rk+E+WBz9w5dq00MxWJuf227Ylykb0WcG2V0LRITP+mujVoDZglJW8XkDSjt7Pfz8xX5Yta3dcm80Z+I2PKmijYEkCqJbS3cvKWxBcWHyFrDa+ij1upfTBRIQAX1HVbMcef0Nwge/hnb5hvy8Qd5Pfk8KCLdAejgGAsjCm8h9kAjxvItSCMifbvBBjWcGpSNmpo/JxYuBpIpRDERM4c10QkdyQXStgKY7Q9JpknSTzZCACIjFSoB5JbrTpbdAeENFXTPAHnTD9LSAiMVudgsIRUQLJNsLCEX4PcaXEkhH1p5+jZp4WVipYtTO5JjN1SlTOT6QeOYfWy+V3gQXHiPqievuK1AMRCBWQGItELnFuta94tX1wzrYkPnFkPRUlB1FKOzBoBJrDRhTRZwpF6ZBKMXYTWE/skD4vXWyjbuw0iEg2t5iiYLoqWAURFctkMy34tdkYVlM4+Wk2wL5wrlV6PIXZH0PNxESEIEYF5ZBJbqReSrWgQTDEg43yw9OT7qwKsqOJVw3JJ2IM2WyQOyjxEAyYoFoBSQTrhWlkFAIoh9LcxW6lePr/28Ebx0jMReA9AtIji+QMKMt2yAXlkCez8yFpa301sPTeDuDEeypa5PXYnCFlLXWsxG3RkDSYIFERTjH2227ov10hN9b6Ujh5YhJHeGIpBTOZcYCibYyEYLox1vSXwNiRjJZWICuj10PZklmKyQgAm53BF6POugrra4dEngfHrN2EDxF8uMaOVslP7cjq1tx8BiIwyGlxdIqLjwFpyOCwaV1iTfOIvR++/S4sFQLhFsfgP003ngYtTJRakByetYCsVK3IU4G0x0D6Y+QC0tHXk4ngqEcAEyZrTgc8s0ZiXgMZ3EOh/zQ+oN52HQwWpndg+6r3oD3OCrKb0lLym1BXgeuuey9flWEBRj55VNPARVjIBoByYQF4lRXBQTkNiG1LfIkrCcsEFcSWViA9jvoiT512Q4JiI683E60tA+ES5eP73JGEIl4zNdN8AThD+YprT16MgOrNyjMb8clF2xIa61LfyrA4uhbf6czjbe5K6jEJhyO+J1q7aLGQKLJAO1+hCUGh0PqkW7K7iSysORteHFwMKs9BD0FCYgOnomlX2fc7QojGIqzdrQ3AHSqXXh7MoDeWwwsaUy8ERGXGAskDS4sPrNmDKhvC0SPk5mWOvosLGV5Y2/ma0AAGy4spWccua/SAcVAdHABiVlrIEGRkFdXAd4fBIRIHb3VlQ4LRG6AKIvIiWg8IhPuKyC2lcnxHqwBkY8fEv5vPYhOAfT0QAKiY0BRM9yuEAboVidT2xRYWHjHIcXUlBCEEbExkPTMjPn9qApIZtyDSjfhaBbWkSY57pGudUAS4Xbbc2H1VNfqbIdcWDpyfH58+UvvwaErFuQWidmD6BNuyLyczn7Ty4lIDb2ApCMLC5Bjcp3dgoAYLAaVDkQLhDGG/bwLQw9Z4HaD6BRATw9kgRggL9WpfU21QIwfRG0zQHJfEdbQu0rTZYHwpponok0aM2eByOcvMbmWhQtIT3VTdjkjUcuDWfrulKajPbROT7ZDFohF+I1nZe3obM/AItJHjAWSpoGNW8TcAslYEN0ZgVwj5UCbP4TPlTY+PfMMOBzARed+gnDYY6kPHLc8srnItychAbGI0trdgoBkew0IkT60E5LU1gIR4asI1mbYApHXJY8gIrmxp64dwbAEpzPSYzEQADGLTMVjRMVBuFxhnFF2JINn1H8gF5ZFigtaAABFBcZ9msiFRdhB9NunYy0QDl/kjDdUzFQWFqDGQaqPtADo210Y8nK6cO6IPfB5KQaSDsgCsciw8iMYMqjW1Hfq9QThdoXAmINcWIRlRIs2Xe4rIDZNNZMV/i5XGAgB24+1AOg59xXR+5CAJEG8wJvTyfCli9aDMUfKiysR/QeHQx7cJcmV1sCuvi7JlaEsLEANpG8/2gKAYoD9CRKQNNKf1gEg0ocrKiDpSuEFYhcW6wkXVlPUXdZf1rMnUoyBrFu3Dtdddx0qKirgcDjwxhtvaN6vr6/H7NmzUVFRgby8PEybNg379+/XbFNXV4dbbrkF5eXlyM/Px8UXX4x//vOfqZwWQZxW8ASNTFogmXVhafdNLqz+Q0oC0tnZibFjx2LhwoUx7zHGMGPGDBw8eBBvvvkmtm3bhhEjRmDy5Mno7FSrtL/73e9i7969eOutt7Bjxw7ccMMN+Na3voVt27alcmoEcdrAB+C0xkA8QfAlCICesUAAuQtDbm7PZWARvUtKLqzp06dj+vTphu/t378fmzZtws6dO3HBBRcAABYtWoTy8nK88sor+N73vgcA2LBhAxYtWoQvfelLAIAHH3wQTz31FKqqqjBu3LhUTo8gTgucSofY9AmIwyHXPITCPs0xMoHYQiQ/tyNmyWcie8lYGm8gIJvQOTk56sGcTvh8Pqxfv155beLEiXj11VfR3NwMSZKwZMkS+P1+XH311XH33dbWpvkhiNMVtTo6PTUgHDEOkqlCQkBrgZD7qn+RMQEZPXo0Kisr8cADD+DUqVMIBoP43e9+h2PHjqG2tlbZ7rXXXkMoFMLAgQPh8/lwxx13YPny5Tj77LNN971gwQIUFxcrP8OHD8/UZRBExlHWqEhzew0xDpLxNN4olIHVv8iYgHg8Hixbtgz79u1DaWkp8vLysHr1akyfPh1Op3rYhx56CC0tLfjggw+wdetWzJ8/H9/61rewY8cO030/8MADaG1tVX6OHj2aqcsgiIzDZ+2Feem1pEULJFPNFAFtG3XKwOpfZDSNd/z48aiurkZrayuCwSAGDx6Myy67DJdccgkA4PPPP8czzzyjiZOMHTsWH374IRYuXIi//vWvhvv1+Xzw+XyZPHWC6DHOG7ULlRU1yEtz+w+tBZL5OhBAXpqY6D/0SCuT4uJiDB48GPv378fWrVtx/fXXAwC6uuQHRrRIAMDlckGSMnfDE0RfwuFA2sUD0MdAMufC4jEQByTk5ZCA9CdSskA6Ojpw4MAB5feamhpUV1ejtLQUlZWVWLp0KQYPHozKykrs2LEDc+fOxYwZMzBlyhQAcpzk7LPPxh133IHf//73GDhwIN544w2sWLEC77zzTmpXRhD9nJ6yQLiA5OXSOjj9jZQEZOvWrfjyl7+s/D5//nwAwKxZs7B48WLU1tZi/vz5qK+vx9ChQ/Hd734XDz30kLK9x+PBu+++i/vvvx/XXXcdOjo6cPbZZ+P555/Htddem8qpEUS/p6eC6AOKGzF4QB3KBx3P2DGIvklKAnL11VeDMfMZx913342777477j7OOeccqjwniAygCaJn0ALxuMO4+PyPM7Z/ou9C7dwJIkvRWCAOavBJpB8SEILIUjRBdBclpRDphwSEILIUeflW2cVMFgiRCUhACCJLcTj46pgMPm8g4fYEkSy0HghBZDHjz9+EQMhHAkJkBBIQgshicnO6kZvT3dunQWQp5MIiCIIgbEECQhAEQdiCBIQgCIKwBQkIQRAEYQsSEIIgCMIWJCAEQRCELUhACIIgCFuQgBAEQRC2IAEhCIIgbEECQhAEQdiCBIQgCIKwBQkIQRAEYQsSEIIgCMIWJCAEQRCELUhACIIgCFuQgBAEQRC2IAEhCIIgbEECQhAEQdiCBIQgCIKwBQkIQRAEYQsSEIIgCMIWJCAEQRCELUhACIIgCFuQgBAEQRC2IAEhCIIgbEECQhAEQdiCBIQgCIKwBQkIQRAEYQsSEIIgCMIWJCAEQRCELUhACIIgCFuQgBAEQRC2IAEhCIIgbEECQhAEQdiCBIQgCIKwBQkIQRAEYYuUBGTdunW47rrrUFFRAYfDgTfeeEPzfn19PWbPno2Kigrk5eVh2rRp2L9/f8x+Nm7ciGuuuQb5+fkoKirClVdeie7u7lROjSAIgsgwKQlIZ2cnxo4di4ULF8a8xxjDjBkzcPDgQbz55pvYtm0bRowYgcmTJ6Ozs1PZbuPGjZg2bRqmTJmCjz/+GFu2bMFdd90Fp5OMI4IgiL6MO5UPT58+HdOnTzd8b//+/di0aRN27tyJCy64AACwaNEilJeX45VXXsH3vvc9AMA999yDu+++G/fff7/y2fPOOy+V0yIIgiB6gIxN8wOBAAAgJydHPZjTCZ/Ph/Xr1wMATp48ic2bN6OsrAwTJ07EkCFDcNVVVynvEwRBEH2XjAnI6NGjUVlZiQceeACnTp1CMBjE7373Oxw7dgy1tbUAgIMHDwIAHnnkEXz/+9/He++9h4svvhiTJk0yjJVwAoEA2traND8EQRBEz5IxAfF4PFi2bBn27duH0tJS5OXlYfXq1Zg+fboS35AkCQBwxx134NZbb8W4cePw1FNP4bzzzsOzzz5ruu8FCxaguLhY+Rk+fHimLoMgCIIwIaOR6vHjx6O6uhotLS2ora3Fe++9h6amJpx55pkAgKFDhwIAzj//fM3nxowZgyNHjpju94EHHkBra6vyc/To0cxdBEEQBGFIj6Q6FRcXY/Dgwdi/fz+2bt2K66+/HgAwcuRIVFRUYO/evZrt9+3bhxEjRpjuz+fzoaioSPNDEARB9CwpZWF1dHTgwIEDyu81NTWorq5GaWkpKisrsXTpUgwePBiVlZXYsWMH5s6dixkzZmDKlCkAAIfDgfvuuw8PP/wwxo4diy9+8Yt4/vnnsWfPHrz++uupXRlBEASRUVISkK1bt+LLX/6y8vv8+fMBALNmzcLixYtRW1uL+fPno76+HkOHDsV3v/tdPPTQQ5p9zJs3D36/H/fccw+am5sxduxYrFixAmeddVYqp0YQBEFkGAdjjPX2SaRKW1sbiouL0dramrQ7695/34v2QHuGzowgiP5Ooa8Qv5/y+6Q/l8q41lNQuTdBEARhCxIQgiAIwhYkIARBEIQtSEAIgiAIW5CAEARBELYgASEIgiBsQQJCEARB2IIEhCAIgrAFCQhBEARhCxIQgiAIwhYkIARBEIQtSEAIgiAIW5CAEARBELYgASEIgiBsQQJCEARB2IIEhCAIgrAFCQhBEARhCxIQgiAIwhYkIARBEIQtSEAIgiAIW7h7+wR6mylnTUEgHOjt0yAIIkvxuX29fQoZgwTkrCm9fQoEQRCnJeTCIgiCIGxBAkIQBEHYggSEIAiCsAUJCEEQBGELEhCCIAjCFiQgBEEQhC1IQAiCIAhbkIAQBEEQtsiKQkLGGACgra2tl8+EIAgiPfDxjI9vfZGsEJD29nYAwPDhw3v5TAiCINJLe3s7iouLe/s0DHGwvixvFpEkCSdOnEBhYSEcDoflz7W1tWH48OE4evQoioqKMniGvQddY3ZA15gdJHONjDG0t7ejoqICTmffjDZkhQXidDoxbNgw258vKirK2huWQ9eYHdA1ZgdWr7GvWh6cvilrBEEQRJ+HBIQgCIKwRb8WEJ/Ph4cffhg+X/b266drzA7oGrODbLvGrAiiEwRBED1Pv7ZACIIgCPuQgBAEQRC2IAEhCIIgbEECQhAEQdiiXwvIwoULMXLkSOTk5OCyyy7Dxx9/3NunZIsFCxbg0ksvRWFhIcrKyjBjxgzs3btXs43f78ecOXMwcOBAFBQUYObMmaivr++lM06d3/72t3A4HJg3b57yWjZc4/Hjx/Gd73wHAwcORG5uLi666CJs3bpVeZ8xhl/+8pcYOnQocnNzMXnyZOzfv78Xzzg5IpEIHnroIYwaNQq5ubk466yz8Oijj2r6PZ1u17hu3Tpcd911qKiogMPhwBtvvKF538r1NDc34+abb0ZRURFKSkpw++23o6Ojowevwiasn7JkyRLm9XrZs88+y3bt2sW+//3vs5KSElZfX9/bp5Y0U6dOZc899xzbuXMnq66uZtdeey2rrKxkHR0dyjY//OEP2fDhw9nKlSvZ1q1b2eWXX84mTpzYi2dtn48//piNHDmSfeELX2Bz585VXj/dr7G5uZmNGDGCzZ49m23evJkdPHiQvf/+++zAgQPKNr/97W9ZcXExe+ONN9j27dvZ1772NTZq1CjW3d3di2dunccee4wNHDiQvfPOO6ympoYtXbqUFRQUsD/96U/KNqfbNb777rvsF7/4BVu2bBkDwJYvX65538r1TJs2jY0dO5Zt2rSJffjhh+zss89mN910Uw9fSfL0WwH50pe+xObMmaP8HolEWEVFBVuwYEEvnlV6OHnyJAPA1q5dyxhjrKWlhXk8HrZ06VJlm927dzMAbOPGjb11mrZob29n55xzDluxYgW76qqrFAHJhmv82c9+xv7jP/7D9H1Jklh5eTl74oknlNdaWlqYz+djr7zySk+cYsp85StfYbfddpvmtRtuuIHdfPPNjLHT/xr1AmLlej777DMGgG3ZskXZ5l//+hdzOBzs+PHjPXbuduiXLqxgMIiqqipMnjxZec3pdGLy5MnYuHFjL55ZemhtbQUAlJaWAgCqqqoQCoU01zt69GhUVlaedtc7Z84cfOUrX9FcC5Ad1/jWW2/hkksuwTe/+U2UlZVh3Lhx+J//+R/l/ZqaGtTV1Wmusbi4GJdddtlpc40TJ07EypUrsW/fPgDA9u3bsX79ekyfPh1AdlyjiJXr2bhxI0pKSnDJJZco20yePBlOpxObN2/u8XNOhqxoppgsjY2NiEQiGDJkiOb1IUOGYM+ePb10VulBkiTMmzcPV1xxBS688EIAQF1dHbxeL0pKSjTbDhkyBHV1db1wlvZYsmQJPvnkE2zZsiXmvWy4xoMHD2LRokWYP38+fv7zn2PLli24++674fV6MWvWLOU6jO7b0+Ua77//frS1tWH06NFwuVyIRCJ47LHHcPPNNwNAVlyjiJXrqaurQ1lZmeZ9t9uN0tLSPn/N/VJAspk5c+Zg586dWL9+fW+fSlo5evQo5s6dixUrViAnJ6e3TycjSJKESy65BL/5zW8AAOPGjcPOnTvx17/+FbNmzerls0sPr732Gl566SW8/PLLuOCCC1BdXY158+ahoqIia66xP9EvXViDBg2Cy+WKydCpr69HeXl5L51V6tx111145513sHr1ak17+/LycgSDQbS0tGi2P52ut6qqCidPnsTFF18Mt9sNt9uNtWvX4umnn4bb7caQIUNO+2scOnQozj//fM1rY8aMwZEjRwBAuY7T+b697777cP/99+Pb3/42LrroItxyyy245557sGDBAgDZcY0iVq6nvLwcJ0+e1LwfDofR3Nzc56+5XwqI1+vF+PHjsXLlSuU1SZKwcuVKTJgwoRfPzB6MMdx1111Yvnw5Vq1ahVGjRmneHz9+PDwej+Z69+7diyNHjpw21ztp0iTs2LED1dXVys8ll1yCm2++Wfn/6X6NV1xxRUz69b59+zBixAgAwKhRo1BeXq65xra2NmzevPm0ucaurq6YxZFcLhckSQKQHdcoYuV6JkyYgJaWFlRVVSnbrFq1CpIk4bLLLuvxc06K3o7i9xZLlixhPp+PLV68mH322WfsBz/4ASspKWF1dXW9fWpJc+edd7Li4mK2Zs0aVltbq/x0dXUp2/zwhz9klZWVbNWqVWzr1q1swoQJbMKECb141qkjZmExdvpf48cff8zcbjd77LHH2P79+9lLL73E8vLy2Isvvqhs89vf/paVlJSwN998k3366afs+uuv79MprnpmzZrFzjjjDCWNd9myZWzQoEHspz/9qbLN6XaN7e3tbNu2bWzbtm0MAHvyySfZtm3b2OHDhxlj1q5n2rRpbNy4cWzz5s1s/fr17JxzzqE03r7On//8Z1ZZWcm8Xi/70pe+xDZt2tTbp2QLAIY/zz33nLJNd3c3+9GPfsQGDBjA8vLy2Ne//nVWW1vbeyedBvQCkg3X+Pbbb7MLL7yQ+Xw+Nnr0aPb3v/9d874kSeyhhx5iQ4YMYT6fj02aNInt3bu3l842edra2tjcuXNZZWUly8nJYWeeeSb7xS9+wQKBgLLN6XaNq1evNnz+Zs2axRizdj1NTU3spptuYgUFBayoqIjdeuutrL29vReuJjmonTtBEARhi34ZAyEIgiBShwSEIAiCsAUJCEEQBGELEhCCIAjCFiQgBEEQhC1IQAiCIAhbkIAQBEEQtiABIQiCIGxBAkIQBEHYggSEIAiCsAUJCEEQBGGL/x8gj5zI4seZ1wAAAABJRU5ErkJggg==)"
          },
          "metadata": {}
        }
      ]
    },
    {
      "cell_type": "code",
      "source": [
        "from sklearn.neighbors import KNeighborsClassifier\n",
        "import pandas as pd\n",
        "\n",
        "data = {\n",
        "    'Imdb_Rating': [8.0, 6.2, 7.2, 8.2, 7.4],\n",
        "    'Duration': [160, 170, 168, 155, 114],\n",
        "    'Label': ['action', 'comedy', 'action', 'comedy', 'comedy']\n",
        "}\n",
        "\n",
        "df = pd.DataFrame(data)\n",
        "\n",
        "X = df[['Imdb_Rating', 'Duration']]\n",
        "Y = df['Label']\n",
        "\n",
        "knn = KNeighborsClassifier(n_neighbors=3)\n",
        "knn.fit(X, Y)\n",
        "\n",
        "barbie = [[7.5, 119]]\n",
        "\n",
        "prediction = knn.predict(barbie)\n",
        "\n",
        "print(\"predicted genre for barbie: \", prediction[0])"
      ],
      "metadata": {
        "colab": {
          "base_uri": "https://localhost:8080/"
        },
        "id": "pakI94pj3yqv",
        "outputId": "2de6fdf2-279f-4539-d1ca-19dd96d42de9"
      },
      "execution_count": 21,
      "outputs": [
        {
          "output_type": "stream",
          "name": "stdout",
          "text": [
            "predicted genre for barbie:  comedy\n"
          ]
        },
        {
          "output_type": "stream",
          "name": "stderr",
          "text": [
            "/usr/local/lib/python3.12/dist-packages/sklearn/utils/validation.py:2739: UserWarning: X does not have valid feature names, but KNeighborsClassifier was fitted with feature names\n",
            "  warnings.warn(\n"
          ]
        }
      ]
    }
  ]
}